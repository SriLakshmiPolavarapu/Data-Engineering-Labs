{
  "nbformat": 4,
  "nbformat_minor": 0,
  "metadata": {
    "colab": {
      "provenance": []
    },
    "kernelspec": {
      "name": "python3",
      "display_name": "Python 3"
    },
    "language_info": {
      "name": "python"
    }
  },
  "cells": [
    {
      "cell_type": "code",
      "source": [
        "pip install requests"
      ],
      "metadata": {
        "colab": {
          "base_uri": "https://localhost:8080/"
        },
        "id": "ImfV5ERXLFAu",
        "outputId": "ecb3543c-6f43-49cf-924a-b51a7d679241"
      },
      "execution_count": 3,
      "outputs": [
        {
          "output_type": "stream",
          "name": "stdout",
          "text": [
            "Requirement already satisfied: requests in /usr/local/lib/python3.11/dist-packages (2.32.3)\n",
            "Requirement already satisfied: charset-normalizer<4,>=2 in /usr/local/lib/python3.11/dist-packages (from requests) (3.4.1)\n",
            "Requirement already satisfied: idna<4,>=2.5 in /usr/local/lib/python3.11/dist-packages (from requests) (3.10)\n",
            "Requirement already satisfied: urllib3<3,>=1.21.1 in /usr/local/lib/python3.11/dist-packages (from requests) (2.3.0)\n",
            "Requirement already satisfied: certifi>=2017.4.17 in /usr/local/lib/python3.11/dist-packages (from requests) (2025.1.31)\n"
          ]
        }
      ]
    },
    {
      "cell_type": "code",
      "source": [
        "import requests, json\n",
        "from datetime import datetime, timedelta\n",
        "API_KEY= \"dc256c1e18da87d696a031dd297ac3d1\"\n",
        "base_url = \"https://api.openweathermap.org/data/2.5/weather?\"\n",
        "\n",
        "city_name = input(\"Enter City Name: \")\n",
        "\n",
        "complete_url = base_url + \"appid=\" + API_KEY + \"&q=\" + city_name\n",
        "\n",
        "response = requests.get(complete_url)\n",
        "\n",
        "x = response.json()\n",
        "if x[\"cod\"] != \"404\":\n",
        "    print(f'Checking if it is raining in {city_name} now?')\n",
        "    if x[\"weather\"][0][\"id\"] >= 500 and x[\"weather\"][0][\"id\"] <= 599:\n",
        "        print(f'It is Raining in {city_name}')\n",
        "    else:\n",
        "        print(f'It is not Raining in {city_name}')\n",
        "    print(f'Weather Forecast in {city_name} Today: {x[\"weather\"][0][\"description\"]}')\n",
        "    lat = x[\"coord\"][\"lat\"]\n",
        "    lon = x[\"coord\"][\"lon\"]\n",
        "    today = datetime.today()\n",
        "    current_time = datetime.now().timestamp()\n",
        "    day_of_week = today.weekday()\n",
        "    if day_of_week < 2 and day_of_week >= 0:\n",
        "        if day_of_week == 0:\n",
        "            days_added = day_of_week + 2\n",
        "        else:\n",
        "            days_added = day_of_week + 1\n",
        "    else:\n",
        "        days_added = 6 - day_of_week + 1\n",
        "    current_timestamp = datetime.now().timestamp()\n",
        "    current_datetime = datetime.fromtimestamp(current_timestamp)\n",
        "    forecasted_day = current_datetime + timedelta(days=days_added)\n",
        "    forecast_url = f\"https://api.openweathermap.org/data/2.5/forecast?lat={lat}&lon={lon}&appid={API_KEY}\"\n",
        "    forecast_response = requests.get(forecast_url)\n",
        "    forecast_data = forecast_response.json()\n",
        "    forecasts_on_target = [f for f in forecast_data['list'] if datetime.fromtimestamp(f['dt']).date() == forecasted_day.date()]\n",
        "    print(f'Checking will it be raining when our next class meets i.e., on {forecasted_day}?')\n",
        "    if forecasts_on_target[0][\"weather\"][0][\"id\"] >= 500 and forecasts_on_target[0][\"weather\"][0][\"id\"] <= 599:\n",
        "        print(f'It will be raining in {city_name}')\n",
        "    else:\n",
        "        print(f'It will not be Raining in {city_name}')\n",
        "    print(f'Weather Forecast in {city_name} on {forecasted_day.date()}: {forecasts_on_target[0][\"weather\"][0][\"description\"]}')\n",
        "else:\n",
        "    print(\"Enter Valid City Name \")"
      ],
      "metadata": {
        "colab": {
          "base_uri": "https://localhost:8080/"
        },
        "id": "83vmv5O1Jx-S",
        "outputId": "c88a6035-b496-42c4-d5d3-2cf50b8f7333"
      },
      "execution_count": 2,
      "outputs": [
        {
          "output_type": "stream",
          "name": "stdout",
          "text": [
            "Enter City Name: Portland\n",
            "Checking if it is raining in Portland now?\n",
            "It is not Raining in Portland\n",
            "Weather Forecast in Portland Today: clear sky\n",
            "Checking will it be raining when our next class meets i.e., on 2025-04-14 06:05:27.260170?\n",
            "It will not be Raining in Portland\n",
            "Weather Forecast in Portland on 2025-04-14: broken clouds\n"
          ]
        }
      ]
    }
  ]
}